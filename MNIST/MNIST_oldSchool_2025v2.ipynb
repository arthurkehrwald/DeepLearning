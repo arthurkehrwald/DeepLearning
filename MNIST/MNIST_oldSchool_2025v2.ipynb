{
 "cells": [
  {
   "cell_type": "code",
   "execution_count": 1,
   "metadata": {
    "id": "lf7Ciw1ILUJM"
   },
   "outputs": [],
   "source": [
    "from timeit import default_timer as timer\n",
    "from typing import Tuple\n",
    "\n",
    "import matplotlib.pyplot as plt\n",
    "import numpy as np\n",
    "import torch\n",
    "import torch.nn as nn\n",
    "from torch.optim import SGD\n",
    "from torch.utils.data import DataLoader\n",
    "from torchvision import datasets, transforms\n",
    "from tqdm import tqdm\n",
    "import datetime\n",
    "from enum import Enum\n",
    "import os"
   ]
  },
  {
   "cell_type": "code",
   "execution_count": 2,
   "metadata": {},
   "outputs": [],
   "source": [
    "class WeightInitMethod(Enum):\n",
    "    ALL_ONES = \"Alles auf 1\"\n",
    "    UNIFORM = \"Gleichmäßige Verteilung\"\n",
    "    NORMAL = \"Normalverteilung\"\n",
    "\n",
    "USING_COLAB = False\n",
    "EPOCHS = 25\n",
    "BATCH_SIZE = 128\n",
    "ACTIVATION_FN = nn.Tanh\n",
    "LOSS_FN = nn.CrossEntropyLoss\n",
    "LEARN_RATE = 1e-2\n",
    "WEIGHT_INIT_METHOD = WeightInitMethod.UNIFORM\n"
   ]
  },
  {
   "cell_type": "code",
   "execution_count": 3,
   "metadata": {},
   "outputs": [],
   "source": [
    "def get_device() -> torch.device:\n",
    "    if torch.cuda.is_available():\n",
    "        device = torch.device(\"cuda\")\n",
    "    elif torch.backends.mps.is_available():\n",
    "        device = torch.device(\"mps\")\n",
    "    else:\n",
    "        device = torch.device(\"cpu\")\n",
    "    x = torch.ones(1, device=device)\n",
    "\n",
    "    return device"
   ]
  },
  {
   "cell_type": "code",
   "execution_count": 4,
   "metadata": {},
   "outputs": [
    {
     "name": "stdout",
     "output_type": "stream",
     "text": [
      "device: cuda\n"
     ]
    }
   ],
   "source": [
    "device = get_device()\n",
    "#device = 'cpu' # CUDA ist langsamer als CPU\n",
    "print(f\"device: {device}\")\n",
    "\n",
    "# Umschalten zwischen Colab oder lokaler Installation\n",
    "if USING_COLAB:\n",
    "    from google.colab import drive\n",
    "    from google.colab.patches import cv2_imshow\n",
    "\n",
    "    drive.mount(\"/content/drive\")"
   ]
  },
  {
   "cell_type": "markdown",
   "metadata": {
    "id": "vQXCN16HLUJR"
   },
   "source": [
    "Download and load the training data\n"
   ]
  },
  {
   "cell_type": "code",
   "execution_count": 5,
   "metadata": {
    "id": "Bp6nmcGfLUJW"
   },
   "outputs": [],
   "source": [
    "def get_data(batch_size: int = 32) -> Tuple[DataLoader, DataLoader]:\n",
    "    transform = transforms.Compose(\n",
    "        [\n",
    "            # Converts to float and normalizes from [0, 255] to [0, 1]\n",
    "            transforms.ToTensor(),\n",
    "            # Flattens the 2D image 28x28 to 1D vector 784\n",
    "            transforms.Lambda(lambda x: x.view(-1)),\n",
    "        ]\n",
    "    )\n",
    "\n",
    "    train_set = datasets.MNIST(\"data/\", download=True, train=True, transform=transform)\n",
    "    test_set = datasets.MNIST(\"data/\", download=True, train=False, transform=transform)\n",
    "\n",
    "    train_dl = DataLoader(train_set, batch_size=batch_size, shuffle=True)\n",
    "    test_dl = DataLoader(test_set, batch_size=len(test_set), shuffle=False)\n",
    "\n",
    "    return train_dl, test_dl"
   ]
  },
  {
   "cell_type": "markdown",
   "metadata": {
    "id": "9dCqz5klinHn"
   },
   "source": [
    "Modell (KNN) definieren mit beliebig vielen Schichten, die jeweils variable Anzahl Neuronen beinhalten. Wir beginnen hier immer mit 28x28 Eingabe-Neuronen und müssen am Ende immer auf 10 Ausgabe-Neuronen kommen\n"
   ]
  },
  {
   "cell_type": "code",
   "execution_count": 6,
   "metadata": {
    "id": "ynAnfCnvLUJX"
   },
   "outputs": [],
   "source": [
    "def get_model() -> tuple[nn.Module, nn.Module, SGD]:\n",
    "    model = nn.Sequential(\n",
    "        nn.Linear(28 * 28, 50),\n",
    "        ACTIVATION_FN(),\n",
    "        nn.Linear(50, 40),\n",
    "        ACTIVATION_FN(),\n",
    "        nn.Linear(40, 30),\n",
    "        ACTIVATION_FN(),\n",
    "        nn.Linear(30, 20),\n",
    "        ACTIVATION_FN(),\n",
    "        nn.Linear(20, 10),\n",
    "    ).to(device)\n",
    "    loss_fn = nn.CrossEntropyLoss()\n",
    "    optimizer = SGD(model.parameters(), lr=LEARN_RATE)\n",
    "\n",
    "    return model, loss_fn, optimizer"
   ]
  },
  {
   "cell_type": "code",
   "execution_count": 7,
   "metadata": {
    "id": "xxyRBE2qYL45"
   },
   "outputs": [],
   "source": [
    "def init_weights(m: nn.Module):\n",
    "    if type(m) == nn.Linear:\n",
    "        if WEIGHT_INIT_METHOD == WeightInitMethod.ALL_ONES:\n",
    "            m.weight.data.fill_(1)\n",
    "        elif WEIGHT_INIT_METHOD == WeightInitMethod.UNIFORM:\n",
    "            m.weight.data.uniform_(-0.1, 0.1)\n",
    "        elif WEIGHT_INIT_METHOD == WeightInitMethod.NORMAL:\n",
    "            m.weight.data.normal_(0.0, 0.1)\n",
    "        if m.bias is not None:\n",
    "            m.bias.data.fill_(0)"
   ]
  },
  {
   "cell_type": "code",
   "execution_count": 8,
   "metadata": {
    "id": "DDA7bVhtLUJY"
   },
   "outputs": [],
   "source": [
    "def train_batch(\n",
    "    x: torch.Tensor, y: torch.Tensor, model: nn.Module, opt: SGD, loss_fn: nn.Module\n",
    ") -> float:\n",
    "    model.train()\n",
    "\n",
    "    prediction = model(x)\n",
    "    # print(f\"prediction.shape {prediction.shape}\")\n",
    "\n",
    "    batch_loss = loss_fn(prediction, y)\n",
    "    # print(f\"batch_loss {batch_loss}\")\n",
    "\n",
    "    batch_loss.backward()\n",
    "    opt.step()\n",
    "    opt.zero_grad()\n",
    "\n",
    "    return batch_loss.item()"
   ]
  },
  {
   "cell_type": "code",
   "execution_count": 9,
   "metadata": {
    "id": "WQ2KVHOOLUJZ"
   },
   "outputs": [],
   "source": [
    "def accuracy(x: torch.Tensor, y: torch.Tensor, model: nn.Module):\n",
    "    model.eval()\n",
    "    with torch.no_grad():\n",
    "        prediction = model(x)\n",
    "\n",
    "    max_values, argmaxes = prediction.max(-1)\n",
    "    is_correct = argmaxes == y\n",
    "\n",
    "    return is_correct.cpu().numpy().tolist()"
   ]
  },
  {
   "cell_type": "code",
   "execution_count": 10,
   "metadata": {
    "id": "y5Efay_nLUJa"
   },
   "outputs": [],
   "source": [
    "def loss(x: torch.Tensor, y: torch.Tensor, model: nn.Module, loss_fn: nn.Module):\n",
    "    model.eval()\n",
    "    with torch.no_grad():\n",
    "        prediction = model(x)\n",
    "        loss = loss_fn(prediction, y)\n",
    "\n",
    "    return loss.item()"
   ]
  },
  {
   "cell_type": "code",
   "execution_count": 11,
   "metadata": {
    "id": "bq_F7QVcLUJb"
   },
   "outputs": [],
   "source": [
    "train_dl, test_dl = get_data(BATCH_SIZE)\n",
    "model, loss_fn, optimizer = get_model()"
   ]
  },
  {
   "cell_type": "code",
   "execution_count": 12,
   "metadata": {
    "id": "1sOWl018LUJc"
   },
   "outputs": [
    {
     "name": "stdout",
     "output_type": "stream",
     "text": [
      "Starting training...\n"
     ]
    },
    {
     "name": "stderr",
     "output_type": "stream",
     "text": [
      "  0%|          | 0/25 [00:00<?, ?it/s]"
     ]
    },
    {
     "name": "stderr",
     "output_type": "stream",
     "text": [
      "  4%|▍         | 1/25 [00:11<04:42, 11.78s/it]"
     ]
    },
    {
     "name": "stdout",
     "output_type": "stream",
     "text": [
      "epoch: 0, train_acc: 11.99%, test_acc: 11.35%, took 11.8s\n"
     ]
    },
    {
     "name": "stderr",
     "output_type": "stream",
     "text": [
      "  8%|▊         | 2/25 [00:22<04:11, 10.95s/it]"
     ]
    },
    {
     "name": "stdout",
     "output_type": "stream",
     "text": [
      "epoch: 1, train_acc: 11.24%, test_acc: 11.35%, took 10.4s\n"
     ]
    },
    {
     "name": "stderr",
     "output_type": "stream",
     "text": [
      " 12%|█▏        | 3/25 [00:31<03:47, 10.34s/it]"
     ]
    },
    {
     "name": "stdout",
     "output_type": "stream",
     "text": [
      "epoch: 2, train_acc: 11.24%, test_acc: 11.35%, took 9.6s\n"
     ]
    },
    {
     "name": "stderr",
     "output_type": "stream",
     "text": [
      " 16%|█▌        | 4/25 [00:41<03:33, 10.18s/it]"
     ]
    },
    {
     "name": "stdout",
     "output_type": "stream",
     "text": [
      "epoch: 3, train_acc: 14.26%, test_acc: 26.45%, took 9.9s\n"
     ]
    },
    {
     "name": "stderr",
     "output_type": "stream",
     "text": [
      " 20%|██        | 5/25 [00:51<03:20, 10.02s/it]"
     ]
    },
    {
     "name": "stdout",
     "output_type": "stream",
     "text": [
      "epoch: 4, train_acc: 31.28%, test_acc: 28.03%, took 9.7s\n"
     ]
    },
    {
     "name": "stderr",
     "output_type": "stream",
     "text": [
      " 24%|██▍       | 6/25 [01:01<03:08,  9.94s/it]"
     ]
    },
    {
     "name": "stdout",
     "output_type": "stream",
     "text": [
      "epoch: 5, train_acc: 31.61%, test_acc: 36.11%, took 9.8s\n"
     ]
    },
    {
     "name": "stderr",
     "output_type": "stream",
     "text": [
      " 28%|██▊       | 7/25 [01:11<02:59,  9.97s/it]"
     ]
    },
    {
     "name": "stdout",
     "output_type": "stream",
     "text": [
      "epoch: 6, train_acc: 37.51%, test_acc: 40.32%, took 10.0s\n"
     ]
    },
    {
     "name": "stderr",
     "output_type": "stream",
     "text": [
      " 32%|███▏      | 8/25 [01:20<02:48,  9.89s/it]"
     ]
    },
    {
     "name": "stdout",
     "output_type": "stream",
     "text": [
      "epoch: 7, train_acc: 45.70%, test_acc: 50.28%, took 9.7s\n"
     ]
    },
    {
     "name": "stderr",
     "output_type": "stream",
     "text": [
      " 36%|███▌      | 9/25 [01:30<02:37,  9.84s/it]"
     ]
    },
    {
     "name": "stdout",
     "output_type": "stream",
     "text": [
      "epoch: 8, train_acc: 56.34%, test_acc: 60.42%, took 9.7s\n"
     ]
    },
    {
     "name": "stderr",
     "output_type": "stream",
     "text": [
      " 40%|████      | 10/25 [01:40<02:26,  9.79s/it]"
     ]
    },
    {
     "name": "stdout",
     "output_type": "stream",
     "text": [
      "epoch: 9, train_acc: 65.00%, test_acc: 68.10%, took 9.7s\n"
     ]
    },
    {
     "name": "stderr",
     "output_type": "stream",
     "text": [
      " 44%|████▍     | 11/25 [01:50<02:17,  9.79s/it]"
     ]
    },
    {
     "name": "stdout",
     "output_type": "stream",
     "text": [
      "epoch: 10, train_acc: 70.44%, test_acc: 72.08%, took 9.8s\n"
     ]
    },
    {
     "name": "stderr",
     "output_type": "stream",
     "text": [
      " 48%|████▊     | 12/25 [02:00<02:07,  9.81s/it]"
     ]
    },
    {
     "name": "stdout",
     "output_type": "stream",
     "text": [
      "epoch: 11, train_acc: 74.23%, test_acc: 76.11%, took 9.9s\n"
     ]
    },
    {
     "name": "stderr",
     "output_type": "stream",
     "text": [
      " 52%|█████▏    | 13/25 [02:10<01:58,  9.87s/it]"
     ]
    },
    {
     "name": "stdout",
     "output_type": "stream",
     "text": [
      "epoch: 12, train_acc: 77.61%, test_acc: 79.58%, took 10.0s\n"
     ]
    },
    {
     "name": "stderr",
     "output_type": "stream",
     "text": [
      " 56%|█████▌    | 14/25 [02:20<01:49,  9.98s/it]"
     ]
    },
    {
     "name": "stdout",
     "output_type": "stream",
     "text": [
      "epoch: 13, train_acc: 80.56%, test_acc: 82.12%, took 10.2s\n"
     ]
    },
    {
     "name": "stderr",
     "output_type": "stream",
     "text": [
      " 60%|██████    | 15/25 [02:30<01:39,  9.99s/it]"
     ]
    },
    {
     "name": "stdout",
     "output_type": "stream",
     "text": [
      "epoch: 14, train_acc: 83.13%, test_acc: 84.15%, took 10.0s\n"
     ]
    },
    {
     "name": "stderr",
     "output_type": "stream",
     "text": [
      " 64%|██████▍   | 16/25 [02:40<01:29,  9.97s/it]"
     ]
    },
    {
     "name": "stdout",
     "output_type": "stream",
     "text": [
      "epoch: 15, train_acc: 85.20%, test_acc: 86.13%, took 9.9s\n"
     ]
    },
    {
     "name": "stderr",
     "output_type": "stream",
     "text": [
      " 68%|██████▊   | 17/25 [02:50<01:19,  9.92s/it]"
     ]
    },
    {
     "name": "stdout",
     "output_type": "stream",
     "text": [
      "epoch: 16, train_acc: 87.14%, test_acc: 87.52%, took 9.8s\n"
     ]
    },
    {
     "name": "stderr",
     "output_type": "stream",
     "text": [
      " 72%|███████▏  | 18/25 [03:00<01:10, 10.04s/it]"
     ]
    },
    {
     "name": "stdout",
     "output_type": "stream",
     "text": [
      "epoch: 17, train_acc: 88.77%, test_acc: 88.94%, took 10.3s\n"
     ]
    },
    {
     "name": "stderr",
     "output_type": "stream",
     "text": [
      " 76%|███████▌  | 19/25 [03:10<01:01, 10.22s/it]"
     ]
    },
    {
     "name": "stdout",
     "output_type": "stream",
     "text": [
      "epoch: 18, train_acc: 90.03%, test_acc: 89.82%, took 10.6s\n"
     ]
    },
    {
     "name": "stderr",
     "output_type": "stream",
     "text": [
      " 80%|████████  | 20/25 [03:22<00:52, 10.47s/it]"
     ]
    },
    {
     "name": "stdout",
     "output_type": "stream",
     "text": [
      "epoch: 19, train_acc: 90.99%, test_acc: 90.81%, took 11.0s\n"
     ]
    },
    {
     "name": "stderr",
     "output_type": "stream",
     "text": [
      " 84%|████████▍ | 21/25 [03:32<00:42, 10.60s/it]"
     ]
    },
    {
     "name": "stdout",
     "output_type": "stream",
     "text": [
      "epoch: 20, train_acc: 91.72%, test_acc: 91.56%, took 10.9s\n"
     ]
    },
    {
     "name": "stderr",
     "output_type": "stream",
     "text": [
      " 88%|████████▊ | 22/25 [03:42<00:31, 10.39s/it]"
     ]
    },
    {
     "name": "stdout",
     "output_type": "stream",
     "text": [
      "epoch: 21, train_acc: 92.38%, test_acc: 91.81%, took 9.9s\n"
     ]
    },
    {
     "name": "stderr",
     "output_type": "stream",
     "text": [
      " 92%|█████████▏| 23/25 [03:52<00:20, 10.21s/it]"
     ]
    },
    {
     "name": "stdout",
     "output_type": "stream",
     "text": [
      "epoch: 22, train_acc: 92.88%, test_acc: 92.41%, took 9.8s\n"
     ]
    },
    {
     "name": "stderr",
     "output_type": "stream",
     "text": [
      " 96%|█████████▌| 24/25 [04:02<00:10, 10.10s/it]"
     ]
    },
    {
     "name": "stdout",
     "output_type": "stream",
     "text": [
      "epoch: 23, train_acc: 93.25%, test_acc: 92.55%, took 9.9s\n"
     ]
    },
    {
     "name": "stderr",
     "output_type": "stream",
     "text": [
      "100%|██████████| 25/25 [04:12<00:00, 10.10s/it]"
     ]
    },
    {
     "name": "stdout",
     "output_type": "stream",
     "text": [
      "epoch: 24, train_acc: 93.56%, test_acc: 92.76%, took 10.1s\n"
     ]
    },
    {
     "name": "stderr",
     "output_type": "stream",
     "text": [
      "\n"
     ]
    }
   ],
   "source": [
    "# ----------------------------------------------\n",
    "# Training >>>\n",
    "#\n",
    "print(\"Starting training...\")\n",
    "\n",
    "# Hier werden die initialen Gewichte des Netzes zufällig gesetzt\n",
    "model.apply(init_weights)\n",
    "\n",
    "epochs = 25\n",
    "\n",
    "arrPlotX = []\n",
    "train_losses, train_accuracies = [], []\n",
    "test_losses, test_accuracies = [], []\n",
    "for epoch in tqdm(range(epochs)):\n",
    "    timeBeginEpoch = timer()\n",
    "    train_epoch_losses, train_epoch_accuracies = [], []\n",
    "\n",
    "    for ix, batch in enumerate(iter(train_dl)):\n",
    "        x, y = batch\n",
    "        x, y = x.to(device), y.to(device)\n",
    "        # print(f\"x.shape: {x.shape}  y.shape: {y.shape}\\n\")\n",
    "\n",
    "        batch_loss = train_batch(x, y, model, optimizer, loss_fn)\n",
    "        train_epoch_losses.append(batch_loss)\n",
    "        is_correct = accuracy(x, y, model)\n",
    "        train_epoch_accuracies.extend(is_correct)\n",
    "\n",
    "    train_epoch_loss = np.array(train_epoch_losses).mean()\n",
    "    train_epoch_accuracy = np.mean(train_epoch_accuracies)\n",
    "\n",
    "    for ix, batch in enumerate(iter(test_dl)):\n",
    "        x, y = batch\n",
    "        x, y = x.to(device), y.to(device)\n",
    "\n",
    "        val_is_correct = accuracy(x, y, model)\n",
    "        validation_loss = loss(x, y, model, loss_fn)\n",
    "\n",
    "    val_epoch_accuracy = np.mean(val_is_correct)\n",
    "    arrPlotX.append(epoch)\n",
    "    train_losses.append(train_epoch_loss)\n",
    "    train_accuracies.append(train_epoch_accuracy)\n",
    "    test_losses.append(validation_loss)\n",
    "    test_accuracies.append(val_epoch_accuracy)\n",
    "    timeEndEpoch = timer()\n",
    "    print(\n",
    "        f\"epoch: {epoch}, train_acc: {100 * train_epoch_accuracy:.2f}%, test_acc: {100 * val_epoch_accuracy:.2f}%, took {timeEndEpoch-timeBeginEpoch:.1f}s\"\n",
    "    )"
   ]
  },
  {
   "cell_type": "code",
   "execution_count": 13,
   "metadata": {
    "id": "JuZmxWzqLUJe"
   },
   "outputs": [],
   "source": [
    "# Save with timestamp\n",
    "timestamp = datetime.datetime.now().strftime(\"%Y%m%d_%H%M%S\")\n",
    "run_artifacts_dir = os.path.join(\"run_artifacts\", timestamp)\n",
    "os.makedirs(run_artifacts_dir, exist_ok=True)\n",
    "\n",
    "if USING_COLAB:\n",
    "    path = \"/content/drive/My Drive/ColabNotebooks/MNIST_model.pt\"\n",
    "else:\n",
    "    path = os.path.join(run_artifacts_dir, \"MNIST_model.pt\")\n",
    "\n",
    "torch.save(model, path)"
   ]
  },
  {
   "cell_type": "code",
   "execution_count": 14,
   "metadata": {},
   "outputs": [],
   "source": [
    "import json\n",
    "\n",
    "# Save the accuracies and losses to a JSON file\n",
    "results = {\n",
    "    \"settings\": {\n",
    "        \"Epochen\": epochs,\n",
    "        \"Batchgröße\": BATCH_SIZE,\n",
    "        \"Aktivierungsfunktion\": ACTIVATION_FN.__name__,\n",
    "        \"Fehlerfunktion\": LOSS_FN.__name__,\n",
    "        \"Lernrate\": LEARN_RATE,\n",
    "        \"Initialisierung der Gewichte\": str(WEIGHT_INIT_METHOD.value),\n",
    "    },\n",
    "    \"train_losses\": train_losses,\n",
    "    \"test_losses\": test_losses,\n",
    "    \"train_accuracies\": train_accuracies,\n",
    "    \"test_accuracies\": test_accuracies,\n",
    "}\n",
    "\n",
    "with open(os.path.join(run_artifacts_dir, \"training_results.json\"), \"w\") as f:\n",
    "    json.dump(results, f, indent=4, default=lambda x: x.tolist() if isinstance(x, np.ndarray) else x)"
   ]
  },
  {
   "cell_type": "code",
   "execution_count": 15,
   "metadata": {
    "id": "FR9XI_13y-0D"
   },
   "outputs": [
    {
     "data": {
      "image/png": "[encoded data removed]",
      "text/plain": [
       "<Figure size 640x480 with 1 Axes>"
      ]
     },
     "metadata": {},
     "output_type": "display_data"
    }
   ],
   "source": [
    "plt.plot(train_losses)\n",
    "plt.plot(test_losses)\n",
    "plt.title(\"Loss vs. Epoch\")\n",
    "plt.xlabel(\"Epoch\")\n",
    "plt.ylabel(\"Loss\")\n",
    "plt.legend([\"Train\", \"Test\"])\n",
    "\n",
    "if USING_COLAB:\n",
    "    plt.savefig(\"/content/drive/My Drive/ColabNotebooks/results/losses_exp0.png\")\n",
    "else:\n",
    "    plt.savefig(os.path.join(run_artifacts_dir, \"losses_exp.png\"))"
   ]
  }
 ],
 "metadata": {
  "accelerator": "GPU",
  "colab": {
   "provenance": []
  },
  "gpuClass": "standard",
  "kernelspec": {
   "display_name": "MNIST-kernel",
   "language": "python",
   "name": "mnist-kernel"
  },
  "language_info": {
   "codemirror_mode": {
    "name": "ipython",
    "version": 3
   },
   "file_extension": ".py",
   "mimetype": "text/x-python",
   "name": "python",
   "nbconvert_exporter": "python",
   "pygments_lexer": "ipython3",
   "version": "3.13.2"
  }
 },
 "nbformat": 4,
 "nbformat_minor": 1
}
