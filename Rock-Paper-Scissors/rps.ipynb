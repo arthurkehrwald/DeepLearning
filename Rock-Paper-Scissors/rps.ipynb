{
 "cells": [
  {
   "cell_type": "code",
   "execution_count": 79,
   "id": "d01c3c48",
   "metadata": {},
   "outputs": [],
   "source": [
    "import torch\n",
    "import torch.nn as nn\n",
    "from typing import Tuple, Callable\n",
    "from torch.utils.data import DataLoader\n",
    "import torchvision\n",
    "import numpy as np"
   ]
  },
  {
   "cell_type": "code",
   "execution_count": 80,
   "id": "601de4de",
   "metadata": {},
   "outputs": [],
   "source": [
    "def get_device() -> torch.device:\n",
    "    if torch.cuda.is_available():\n",
    "        device = torch.device(\"cuda\")\n",
    "    elif torch.backends.mps.is_available():\n",
    "        device = torch.device(\"mps\")\n",
    "    else:\n",
    "        device = torch.device(\"cpu\")\n",
    "    x = torch.ones(1, device=device)\n",
    "\n",
    "    return device"
   ]
  },
  {
   "cell_type": "code",
   "execution_count": 81,
   "id": "20581d06",
   "metadata": {},
   "outputs": [],
   "source": [
    "def get_data(batch_size: int) -> Tuple[DataLoader, DataLoader]:\n",
    "    transform = torchvision.transforms.Compose(\n",
    "        [\n",
    "            torchvision.transforms.Resize((120, 80)),  # 3:2 aspect ratio\n",
    "            torchvision.transforms.Grayscale(num_output_channels=1),\n",
    "            torchvision.transforms.ToTensor(),\n",
    "        ]\n",
    "    )\n",
    "\n",
    "    data_dir = \"data\"\n",
    "    dataset = torchvision.datasets.ImageFolder(data_dir, transform)\n",
    "    train_size = int(0.8 * len(dataset))\n",
    "    val_size = len(dataset) - train_size\n",
    "    train_dataset, val_dataset = torch.utils.data.random_split(dataset, [train_size, val_size])\n",
    "    train_loader = DataLoader(train_dataset, batch_size=batch_size, shuffle=True)\n",
    "    val_loader = DataLoader(val_dataset, batch_size=len(val_dataset), shuffle=False)\n",
    "    return train_loader, val_loader"
   ]
  },
  {
   "cell_type": "code",
   "execution_count": 82,
   "id": "e135cbe1",
   "metadata": {},
   "outputs": [],
   "source": [
    "def train(\n",
    "    model: nn.Module,\n",
    "    optimizer: torch.optim.Optimizer,\n",
    "    loss_fn: Callable[[torch.Tensor, torch.Tensor], torch.Tensor],\n",
    "    loader: DataLoader,\n",
    "    device: torch.device,\n",
    "    epochs: int\n",
    ") -> None:\n",
    "    model.train()\n",
    "    for epoch in range(epochs):\n",
    "        for batchIdx, (data, labels) in enumerate(iter(loader)):\n",
    "            data, labels = data.to(device), labels.to(device)\n",
    "            predictions = model(data)\n",
    "            batch_loss = loss_fn(predictions, labels)\n",
    "            optimizer.step()\n",
    "            optimizer.zero_grad()\n"
   ]
  },
  {
   "cell_type": "code",
   "execution_count": 83,
   "id": "919e4d53",
   "metadata": {},
   "outputs": [],
   "source": [
    "def validate_accuracy(model: nn.Module, loader: DataLoader, device: torch.device) -> float:\n",
    "    model.eval()\n",
    "    is_correct = torch.empty(0)\n",
    "    for i, (data, labels) in enumerate(iter(loader)):\n",
    "        data, labels = data.to(device), labels.to(device)\n",
    "        with torch.no_grad():\n",
    "            prediction = model(data)\n",
    "        max_values, argmaxes = prediction.max(-1)\n",
    "        is_correct = torch.cat((is_correct, argmaxes == labels))\n",
    "    return np.mean(is_correct.cpu().numpy())"
   ]
  },
  {
   "cell_type": "code",
   "execution_count": 84,
   "id": "df63397b",
   "metadata": {},
   "outputs": [],
   "source": [
    "device = get_device()\n",
    "train_loader, val_loader = get_data(256)\n",
    "model = nn.Sequential(\n",
    "    # 1x120x80\n",
    "    nn.Conv2d(1, 4, 3),\n",
    "    # 4x118x78\n",
    "    nn.ReLU(),\n",
    "    nn.Conv2d(4, 8, 3),\n",
    "    # 8x116x76\n",
    "    nn.ReLU(),\n",
    "    nn.MaxPool2d(3),\n",
    "    # 8x38x25\n",
    "    nn.Flatten(),\n",
    "    # 7600\n",
    "    nn.Linear(7600, 128),\n",
    "    nn.ReLU(),\n",
    "    nn.Linear(128, 4),\n",
    "    nn.Softmax()\n",
    ").to(device)\n",
    "loss_fn = nn.CrossEntropyLoss()\n",
    "optimizer = torch.optim.AdamW(model.parameters())\n",
    "train(model, optimizer, loss_fn, train_loader, device, 1)"
   ]
  },
  {
   "cell_type": "code",
   "execution_count": 85,
   "id": "5ef20b69",
   "metadata": {},
   "outputs": [
    {
     "name": "stdout",
     "output_type": "stream",
     "text": [
      "Acc: 26.53%\n"
     ]
    }
   ],
   "source": [
    "acc = validate_accuracy(model, val_loader, device)\n",
    "print(f\"Acc: {acc * 100:.2f}%\")"
   ]
  }
 ],
 "metadata": {
  "kernelspec": {
   "display_name": ".rockpaperscissorsvenv",
   "language": "python",
   "name": ".rockpaperscissorsvenv"
  },
  "language_info": {
   "codemirror_mode": {
    "name": "ipython",
    "version": 3
   },
   "file_extension": ".py",
   "mimetype": "text/x-python",
   "name": "python",
   "nbconvert_exporter": "python",
   "pygments_lexer": "ipython3",
   "version": "3.13.2"
  }
 },
 "nbformat": 4,
 "nbformat_minor": 5
}
