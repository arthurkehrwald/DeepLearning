{
 "cells": [
  {
   "cell_type": "code",
   "execution_count": 14,
   "id": "d01c3c48",
   "metadata": {},
   "outputs": [],
   "source": [
    "import torch\n",
    "import torch.nn as nn\n",
    "from typing import Tuple, Callable\n",
    "from torch.utils.data import DataLoader\n",
    "import torchvision\n",
    "import numpy as np\n",
    "from torchsummary import summary\n",
    "from tqdm import tqdm\n",
    "from datetime import datetime\n",
    "import os\n",
    "from enum import Enum"
   ]
  },
  {
   "cell_type": "code",
   "execution_count": 15,
   "id": "471ff0ff",
   "metadata": {},
   "outputs": [],
   "source": [
    "class Mode(Enum):\n",
    "    TRAIN = 0\n",
    "    LOAD = 1\n",
    "\n",
    "\n",
    "MODE = Mode.LOAD"
   ]
  },
  {
   "cell_type": "code",
   "execution_count": 16,
   "id": "601de4de",
   "metadata": {},
   "outputs": [],
   "source": [
    "def get_device() -> torch.device:\n",
    "    if torch.cuda.is_available():\n",
    "        device = torch.device(\"cuda\")\n",
    "    elif torch.backends.mps.is_available():\n",
    "        device = torch.device(\"mps\")\n",
    "    else:\n",
    "        device = torch.device(\"cpu\")\n",
    "    x = torch.ones(1, device=device)\n",
    "\n",
    "    return device"
   ]
  },
  {
   "cell_type": "code",
   "execution_count": 17,
   "id": "20581d06",
   "metadata": {},
   "outputs": [],
   "source": [
    "def get_data(\n",
    "    batch_size: int, resolution: Tuple[int, int]\n",
    ") -> Tuple[DataLoader, DataLoader]:\n",
    "    transform = torchvision.transforms.Compose(\n",
    "        [\n",
    "            torchvision.transforms.Resize(resolution),  # 3:2 aspect ratio\n",
    "            torchvision.transforms.Grayscale(num_output_channels=1),\n",
    "            torchvision.transforms.ToTensor(),\n",
    "        ]\n",
    "    )\n",
    "\n",
    "    data_dir = \"data\"\n",
    "    dataset = torchvision.datasets.ImageFolder(data_dir, transform)\n",
    "    train_size = int(0.8 * len(dataset))\n",
    "    val_size = len(dataset) - train_size\n",
    "    train_dataset, val_dataset = torch.utils.data.random_split(\n",
    "        dataset, [train_size, val_size]\n",
    "    )\n",
    "    train_loader = DataLoader(train_dataset, batch_size=batch_size, shuffle=True)\n",
    "    val_loader = DataLoader(val_dataset, batch_size=batch_size, shuffle=False)\n",
    "    return train_loader, val_loader"
   ]
  },
  {
   "cell_type": "code",
   "execution_count": 18,
   "id": "919e4d53",
   "metadata": {},
   "outputs": [],
   "source": [
    "def validate_accuracy(\n",
    "    model: nn.Module,\n",
    "    loader: DataLoader,\n",
    "    device: torch.device,\n",
    "    batch_lim: int = 0,\n",
    "    silent: bool = False,\n",
    ") -> float:\n",
    "\n",
    "    model.eval()\n",
    "\n",
    "    correct_count = 0\n",
    "    total_count = 0\n",
    "\n",
    "    for i, (data, labels) in tqdm(enumerate(iter(loader)), disable=silent):\n",
    "\n",
    "        data, labels = data.to(device), labels.to(device)\n",
    "\n",
    "        with torch.no_grad():\n",
    "\n",
    "            output = model(data)\n",
    "\n",
    "        _, predictions = torch.max(output, 1)\n",
    "        correct_count += torch.sum(predictions == labels).item()\n",
    "        total_count += labels.size(0)\n",
    "        if batch_lim > 0 and i >= batch_lim:\n",
    "            break\n",
    "\n",
    "    return correct_count / total_count"
   ]
  },
  {
   "cell_type": "code",
   "execution_count": 19,
   "id": "e135cbe1",
   "metadata": {},
   "outputs": [],
   "source": [
    "def train(\n",
    "    model: nn.Module,\n",
    "    optimizer: torch.optim.Optimizer,\n",
    "    loss_fn: Callable[[torch.Tensor, torch.Tensor], torch.Tensor],\n",
    "    train_loader: DataLoader,\n",
    "    val_loader: DataLoader,\n",
    "    device: torch.device,\n",
    "    epochs: int,\n",
    ") -> None:\n",
    "    for epoch in range(epochs):\n",
    "        progress_bar = tqdm(\n",
    "            enumerate(iter(train_loader)),\n",
    "            total=len(train_loader),\n",
    "            desc=f\"Epoch {epoch+1}/{epochs}\",\n",
    "        )\n",
    "        model.train()\n",
    "        for batchIdx, (data, labels) in progress_bar:\n",
    "            data, labels = data.to(device), labels.to(device)\n",
    "            optimizer.zero_grad()\n",
    "            predictions = model(data)\n",
    "            batch_loss = loss_fn(predictions, labels)\n",
    "            batch_loss.backward()\n",
    "            optimizer.step()\n",
    "            if batchIdx == 0:\n",
    "                batch_losses = batch_loss.detach().unsqueeze(0)\n",
    "            else:\n",
    "                batch_losses = torch.cat(\n",
    "                    (batch_losses, batch_loss.detach().unsqueeze(0))\n",
    "                )\n",
    "            progress_bar.set_postfix(\n",
    "                {\"Mean batch loss\": torch.mean(batch_losses).item()}\n",
    "            )\n",
    "        val_acc = validate_accuracy(model, val_loader, device, batch_lim=1, silent=True)\n",
    "        train_acc = validate_accuracy(\n",
    "            model, train_loader, device, batch_lim=1, silent=True\n",
    "        )\n",
    "        print(f\"Val Acc: {val_acc * 100:.2f}% Train Acc: {train_acc * 100:.2f}%\")"
   ]
  },
  {
   "cell_type": "code",
   "execution_count": 20,
   "id": "86c5bca7",
   "metadata": {},
   "outputs": [],
   "source": [
    "def test(net, loader, device) -> float:\n",
    "    net.eval()\n",
    "    correct = 0\n",
    "    total = 0\n",
    "    with torch.no_grad():\n",
    "        for data, target in loader:\n",
    "            data, target = data.to(device), target.to(device)\n",
    "            output = net(data)\n",
    "            _, prediction = torch.max(output, 1)\n",
    "            correct += torch.sum(prediction == target).item()\n",
    "            total += target.size(0)\n",
    "    return 100 * correct / total"
   ]
  },
  {
   "cell_type": "code",
   "execution_count": 21,
   "id": "df63397b",
   "metadata": {},
   "outputs": [
    {
     "name": "stdout",
     "output_type": "stream",
     "text": [
      "Device: cuda\n"
     ]
    }
   ],
   "source": [
    "device = get_device()\n",
    "print(f\"Device: {device}\")\n",
    "\n",
    "\n",
    "resolution = (150, 100)\n",
    "batch_size = 256\n",
    "\n",
    "\n",
    "train_loader, val_loader = get_data(batch_size, resolution)"
   ]
  },
  {
   "cell_type": "code",
   "execution_count": null,
   "id": "26958770",
   "metadata": {},
   "outputs": [
    {
     "name": "stdout",
     "output_type": "stream",
     "text": [
      "----------------------------------------------------------------\n",
      "        Layer (type)               Output Shape         Param #\n",
      "================================================================\n",
      "            Conv2d-1          [256, 6, 146, 96]             156\n",
      "              ReLU-2          [256, 6, 146, 96]               0\n",
      "         MaxPool2d-3           [256, 6, 73, 48]               0\n",
      "            Conv2d-4          [256, 16, 69, 44]           2,416\n",
      "              ReLU-5          [256, 16, 69, 44]               0\n",
      "         MaxPool2d-6          [256, 16, 34, 22]               0\n",
      "           Flatten-7               [256, 11968]               0\n",
      "            Linear-8                 [256, 128]       1,532,032\n",
      "              ReLU-9                 [256, 128]               0\n",
      "           Linear-10                  [256, 84]          10,836\n",
      "             ReLU-11                  [256, 84]               0\n",
      "           Linear-12                   [256, 4]             340\n",
      "================================================================\n",
      "Total params: 1,545,780\n",
      "Trainable params: 1,545,780\n",
      "Non-trainable params: 0\n",
      "----------------------------------------------------------------\n",
      "Input size (MB): 14.65\n",
      "Forward/backward pass size (MB): 606.90\n",
      "Params size (MB): 5.90\n",
      "Estimated Total Size (MB): 627.44\n",
      "----------------------------------------------------------------\n"
     ]
    }
   ],
   "source": [
    "MODEL_FILE_NAME = \"rps2.pt\"\n",
    "\n",
    "if MODE == Mode.LOAD:\n",
    "    model = torch.load(MODEL_FILE_NAME, weights_only=False).to(device)\n",
    "    summary(model, (1, *resolution), batch_size, device.type)\n",
    "elif MODE == Mode.TRAIN:\n",
    "    model = nn.Sequential(\n",
    "        nn.Conv2d(1, 6, 5),\n",
    "        nn.ReLU(),\n",
    "        nn.MaxPool2d(2, 2),\n",
    "        nn.Conv2d(6, 16, 5),\n",
    "        nn.ReLU(),\n",
    "        nn.MaxPool2d(2, 2),\n",
    "        nn.Flatten(),\n",
    "        nn.Linear(11968, 128),\n",
    "        nn.ReLU(),\n",
    "        nn.Linear(128, 84),\n",
    "        nn.ReLU(),\n",
    "        nn.Linear(84, 4),\n",
    "    ).to(device)\n",
    "    summary(model, (1, *resolution), batch_size, device.type)\n",
    "    loss_fn = nn.CrossEntropyLoss()\n",
    "    optimizer = torch.optim.AdamW(model.parameters(), weight_decay=0.03)"
   ]
  },
  {
   "cell_type": "code",
   "execution_count": 23,
   "id": "2e8d32ff",
   "metadata": {},
   "outputs": [
    {
     "name": "stdout",
     "output_type": "stream",
     "text": [
      "----------------------------------------------------------------\n",
      "        Layer (type)               Output Shape         Param #\n",
      "================================================================\n",
      "            Conv2d-1          [256, 6, 146, 96]             156\n",
      "              ReLU-2          [256, 6, 146, 96]               0\n",
      "         MaxPool2d-3           [256, 6, 73, 48]               0\n",
      "            Conv2d-4          [256, 16, 69, 44]           2,416\n",
      "              ReLU-5          [256, 16, 69, 44]               0\n",
      "         MaxPool2d-6          [256, 16, 34, 22]               0\n",
      "           Flatten-7               [256, 11968]               0\n",
      "            Linear-8                 [256, 128]       1,532,032\n",
      "              ReLU-9                 [256, 128]               0\n",
      "           Linear-10                  [256, 84]          10,836\n",
      "             ReLU-11                  [256, 84]               0\n",
      "           Linear-12                   [256, 4]             340\n",
      "================================================================\n",
      "Total params: 1,545,780\n",
      "Trainable params: 1,545,780\n",
      "Non-trainable params: 0\n",
      "----------------------------------------------------------------\n",
      "Input size (MB): 14.65\n",
      "Forward/backward pass size (MB): 606.90\n",
      "Params size (MB): 5.90\n",
      "Estimated Total Size (MB): 627.44\n",
      "----------------------------------------------------------------\n"
     ]
    }
   ],
   "source": [
    "summary(model, (1, *resolution), batch_size, device.type)\n",
    "\n",
    "\n",
    "if MODE == Mode.TRAIN:\n",
    "\n",
    "    loss_fn = nn.CrossEntropyLoss()\n",
    "    optimizer = torch.optim.AdamW(model.parameters(), weight_decay=0.03)\n",
    "    train(model, optimizer, loss_fn, train_loader, val_loader, device, epochs=20)"
   ]
  },
  {
   "cell_type": "code",
   "execution_count": 24,
   "id": "d1d15059",
   "metadata": {},
   "outputs": [
    {
     "name": "stdout",
     "output_type": "stream",
     "text": [
      "Val Acc: 97.38\n"
     ]
    }
   ],
   "source": [
    "acc = test(model, val_loader, device)\n",
    "print(f\"Val Acc: {acc:.2f}\")"
   ]
  },
  {
   "cell_type": "code",
   "execution_count": 25,
   "id": "5ef20b69",
   "metadata": {},
   "outputs": [
    {
     "name": "stderr",
     "output_type": "stream",
     "text": [
      "5it [00:05,  1.13s/it]\n",
      "18it [00:21,  1.20s/it]"
     ]
    },
    {
     "name": "stdout",
     "output_type": "stream",
     "text": [
      "Train Acc: 96.71%, Val Acc: 97.38%\n"
     ]
    },
    {
     "name": "stderr",
     "output_type": "stream",
     "text": [
      "\n"
     ]
    }
   ],
   "source": [
    "val_acc = validate_accuracy(model, val_loader, device)\n",
    "train_acc = validate_accuracy(model, train_loader, device)\n",
    "print(f\"Train Acc: {train_acc * 100:.2f}%, Val Acc: {val_acc * 100:.2f}%\")"
   ]
  },
  {
   "cell_type": "code",
   "execution_count": 26,
   "id": "1cb434e1",
   "metadata": {},
   "outputs": [],
   "source": [
    "timestamp = datetime.now().strftime(\"%Y%m%d_%H%M%S\")\n",
    "dir = os.path.join(\"run_artifacts\", timestamp)\n",
    "os.makedirs(dir, exist_ok=True)\n",
    "path = os.path.join(dir, MODEL_FILE_NAME)\n",
    "torch.save(model, path)"
   ]
  }
 ],
 "metadata": {
  "kernelspec": {
   "display_name": ".rockpaperscissorsvenv",
   "language": "python",
   "name": ".rockpaperscissorsvenv"
  },
  "language_info": {
   "codemirror_mode": {
    "name": "ipython",
    "version": 3
   },
   "file_extension": ".py",
   "mimetype": "text/x-python",
   "name": "python",
   "nbconvert_exporter": "python",
   "pygments_lexer": "ipython3",
   "version": "3.13.2"
  }
 },
 "nbformat": 4,
 "nbformat_minor": 5
}
