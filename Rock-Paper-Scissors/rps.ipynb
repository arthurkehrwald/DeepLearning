{
 "cells": [
  {
   "cell_type": "code",
   "execution_count": 2,
   "id": "d01c3c48",
   "metadata": {},
   "outputs": [],
   "source": [
    "import torch\n",
    "import torch.nn as nn\n",
    "from typing import Tuple, Callable\n",
    "from torch.utils.data import DataLoader\n",
    "import torchvision\n",
    "import numpy as np\n",
    "from torchsummary import summary\n",
    "from tqdm import tqdm\n",
    "from datetime import datetime\n",
    "import os"
   ]
  },
  {
   "cell_type": "code",
   "execution_count": 14,
   "id": "601de4de",
   "metadata": {},
   "outputs": [],
   "source": [
    "def get_device() -> torch.device:\n",
    "    if torch.cuda.is_available():\n",
    "        device = torch.device(\"cuda\")\n",
    "    elif torch.backends.mps.is_available():\n",
    "        device = torch.device(\"mps\")\n",
    "    else:\n",
    "        device = torch.device(\"cpu\")\n",
    "    x = torch.ones(1, device=device)\n",
    "\n",
    "    return device"
   ]
  },
  {
   "cell_type": "code",
   "execution_count": 15,
   "id": "20581d06",
   "metadata": {},
   "outputs": [],
   "source": [
    "def get_data(batch_size: int, resolution: Tuple[int, int]) -> Tuple[DataLoader, DataLoader]:\n",
    "    transform = torchvision.transforms.Compose(\n",
    "        [\n",
    "            torchvision.transforms.Resize(resolution),  # 3:2 aspect ratio\n",
    "            torchvision.transforms.Grayscale(num_output_channels=1),\n",
    "            torchvision.transforms.ToTensor(),\n",
    "        ]\n",
    "    )\n",
    "\n",
    "    data_dir = \"data\"\n",
    "    dataset = torchvision.datasets.ImageFolder(data_dir, transform)\n",
    "    train_size = int(0.8 * len(dataset))\n",
    "    val_size = len(dataset) - train_size\n",
    "    train_dataset, val_dataset = torch.utils.data.random_split(dataset, [train_size, val_size])\n",
    "    train_loader = DataLoader(train_dataset, batch_size=batch_size, shuffle=True)\n",
    "    val_loader = DataLoader(val_dataset, batch_size=len(val_dataset), shuffle=False)\n",
    "    return train_loader, val_loader"
   ]
  },
  {
   "cell_type": "code",
   "execution_count": null,
   "id": "e135cbe1",
   "metadata": {},
   "outputs": [],
   "source": [
    "def train(\n",
    "    model: nn.Module,\n",
    "    optimizer: torch.optim.Optimizer,\n",
    "    loss_fn: Callable[[torch.Tensor, torch.Tensor], torch.Tensor],\n",
    "    loader: DataLoader,\n",
    "    device: torch.device,\n",
    "    epochs: int\n",
    ") -> None:\n",
    "    model.train()\n",
    "    for epoch in range(epochs):\n",
    "        progress_bar = tqdm(enumerate(iter(loader)), total=len(loader), desc=f\"Epoch {epoch+1}/{epochs}\")\n",
    "        batch_losses = torch.empty(0).to(device)\n",
    "        for batchIdx, (data, labels) in progress_bar:\n",
    "            data, labels = data.to(device), labels.to(device)\n",
    "            optimizer.zero_grad()\n",
    "            predictions = model(data)\n",
    "            batch_loss = loss_fn(predictions, labels)\n",
    "            batch_loss.backward()\n",
    "            optimizer.step()\n",
    "            batch_losses = torch.cat(batch_losses, batch_loss.item())\n",
    "            progress_bar.set_postfix({'Mean batch loss': torch.mean(batch_losses)})\n"
   ]
  },
  {
   "cell_type": "code",
   "execution_count": null,
   "id": "919e4d53",
   "metadata": {},
   "outputs": [],
   "source": [
    "def validate_accuracy(model: nn.Module, loader: DataLoader, device: torch.device) -> float:\n",
    "    model.eval()\n",
    "    is_correct = torch.empty(0).to(device)\n",
    "    for i, (data, labels) in tqdm(enumerate(iter(loader))):\n",
    "        data, labels = data.to(device), labels.to(device)\n",
    "        with torch.no_grad():\n",
    "            prediction = model(data)\n",
    "        max_values, argmaxes = prediction.max(-1)\n",
    "        is_correct = torch.cat((is_correct, argmaxes == labels))\n",
    "    return np.mean(is_correct.cpu().numpy())"
   ]
  },
  {
   "cell_type": "code",
   "execution_count": 40,
   "id": "df63397b",
   "metadata": {},
   "outputs": [
    {
     "name": "stdout",
     "output_type": "stream",
     "text": [
      "Device: cuda\n"
     ]
    }
   ],
   "source": [
    "device = get_device()\n",
    "print(f\"Device: {device}\")\n",
    "resolution = (150, 100)\n",
    "batch_size = 256\n",
    "train_loader, val_loader = get_data(batch_size, resolution)"
   ]
  },
  {
   "cell_type": "code",
   "execution_count": 5,
   "id": "26958770",
   "metadata": {},
   "outputs": [],
   "source": [
    "MODEL_FILE_NAME = \"rps.pt\"\n",
    "model = torch.load(MODEL_FILE_NAME, weights_only=False)"
   ]
  },
  {
   "cell_type": "code",
   "execution_count": 44,
   "id": "2e8d32ff",
   "metadata": {},
   "outputs": [
    {
     "name": "stdout",
     "output_type": "stream",
     "text": [
      "----------------------------------------------------------------\n",
      "        Layer (type)               Output Shape         Param #\n",
      "================================================================\n",
      "            Conv2d-1          [256, 6, 146, 96]             156\n",
      "              ReLU-2          [256, 6, 146, 96]               0\n",
      "         MaxPool2d-3           [256, 6, 73, 48]               0\n",
      "            Conv2d-4          [256, 16, 69, 44]           2,416\n",
      "              ReLU-5          [256, 16, 69, 44]               0\n",
      "         MaxPool2d-6          [256, 16, 34, 22]               0\n",
      "           Flatten-7               [256, 11968]               0\n",
      "            Linear-8                 [256, 128]       1,532,032\n",
      "              ReLU-9                 [256, 128]               0\n",
      "           Linear-10                  [256, 84]          10,836\n",
      "             ReLU-11                  [256, 84]               0\n",
      "           Linear-12                   [256, 4]             340\n",
      "================================================================\n",
      "Total params: 1,545,780\n",
      "Trainable params: 1,545,780\n",
      "Non-trainable params: 0\n",
      "----------------------------------------------------------------\n",
      "Input size (MB): 14.65\n",
      "Forward/backward pass size (MB): 606.90\n",
      "Params size (MB): 5.90\n",
      "Estimated Total Size (MB): 627.44\n",
      "----------------------------------------------------------------\n"
     ]
    }
   ],
   "source": [
    "model = nn.Sequential(\n",
    "    nn.Conv2d(1, 6, 5),\n",
    "    nn.ReLU(),\n",
    "    nn.MaxPool2d(2, 2),\n",
    "    nn.Conv2d(6, 16, 5),\n",
    "    nn.ReLU(),\n",
    "    nn.MaxPool2d(2, 2),\n",
    "    nn.Flatten(),\n",
    "    nn.Linear(11968, 128),\n",
    "    nn.ReLU(),\n",
    "    nn.Linear(128, 84),\n",
    "    nn.ReLU(),\n",
    "    nn.Linear(84, 4),\n",
    ").to(device)\n",
    "\n",
    "summary(model, (1, *resolution), batch_size, device.type)\n",
    "\n",
    "loss_fn = nn.CrossEntropyLoss()\n",
    "optimizer = torch.optim.AdamW(model.parameters())"
   ]
  },
  {
   "cell_type": "code",
   "execution_count": 56,
   "id": "96d68d48",
   "metadata": {},
   "outputs": [
    {
     "name": "stderr",
     "output_type": "stream",
     "text": [
      "Epoch 1/50: 100%|██████████| 18/18 [00:29<00:00,  1.62s/it, batch_loss=0.0666]\n",
      "Epoch 2/50: 100%|██████████| 18/18 [00:25<00:00,  1.42s/it, batch_loss=0.0703]\n",
      "Epoch 3/50: 100%|██████████| 18/18 [00:26<00:00,  1.48s/it, batch_loss=0.0729]\n",
      "Epoch 4/50: 100%|██████████| 18/18 [00:28<00:00,  1.58s/it, batch_loss=0.0724]\n",
      "Epoch 5/50: 100%|██████████| 18/18 [00:28<00:00,  1.60s/it, batch_loss=0.0413]\n",
      "Epoch 6/50: 100%|██████████| 18/18 [00:30<00:00,  1.70s/it, batch_loss=0.0589]\n",
      "Epoch 7/50: 100%|██████████| 18/18 [00:30<00:00,  1.69s/it, batch_loss=0.0546]\n",
      "Epoch 8/50: 100%|██████████| 18/18 [00:29<00:00,  1.64s/it, batch_loss=0.0217]\n",
      "Epoch 9/50: 100%|██████████| 18/18 [00:29<00:00,  1.61s/it, batch_loss=0.013]  \n",
      "Epoch 10/50: 100%|██████████| 18/18 [00:30<00:00,  1.71s/it, batch_loss=0.0191]\n",
      "Epoch 11/50: 100%|██████████| 18/18 [00:31<00:00,  1.77s/it, batch_loss=0.0233] \n",
      "Epoch 12/50: 100%|██████████| 18/18 [00:30<00:00,  1.69s/it, batch_loss=0.0118] \n",
      "Epoch 13/50: 100%|██████████| 18/18 [00:30<00:00,  1.70s/it, batch_loss=0.00923]\n",
      "Epoch 14/50: 100%|██████████| 18/18 [00:32<00:00,  1.81s/it, batch_loss=0.00623]\n",
      "Epoch 15/50: 100%|██████████| 18/18 [00:29<00:00,  1.66s/it, batch_loss=0.00879]\n",
      "Epoch 16/50: 100%|██████████| 18/18 [00:30<00:00,  1.70s/it, batch_loss=0.00813]\n",
      "Epoch 17/50: 100%|██████████| 18/18 [00:32<00:00,  1.78s/it, batch_loss=0.00583]\n",
      "Epoch 18/50: 100%|██████████| 18/18 [00:30<00:00,  1.72s/it, batch_loss=0.0316] \n",
      "Epoch 19/50: 100%|██████████| 18/18 [00:31<00:00,  1.77s/it, batch_loss=0.0135] \n",
      "Epoch 20/50: 100%|██████████| 18/18 [00:46<00:00,  2.58s/it, batch_loss=0.00915]\n",
      "Epoch 21/50: 100%|██████████| 18/18 [00:39<00:00,  2.18s/it, batch_loss=0.0104] \n",
      "Epoch 22/50: 100%|██████████| 18/18 [00:36<00:00,  2.00s/it, batch_loss=0.0116] \n",
      "Epoch 23/50: 100%|██████████| 18/18 [00:34<00:00,  1.93s/it, batch_loss=0.026]  \n",
      "Epoch 24/50: 100%|██████████| 18/18 [00:32<00:00,  1.80s/it, batch_loss=0.264] \n",
      "Epoch 25/50: 100%|██████████| 18/18 [00:31<00:00,  1.78s/it, batch_loss=0.112]\n",
      "Epoch 26/50: 100%|██████████| 18/18 [00:31<00:00,  1.77s/it, batch_loss=0.0861]\n",
      "Epoch 27/50: 100%|██████████| 18/18 [00:32<00:00,  1.81s/it, batch_loss=0.0425]\n",
      "Epoch 28/50: 100%|██████████| 18/18 [00:33<00:00,  1.84s/it, batch_loss=0.0142]\n",
      "Epoch 29/50: 100%|██████████| 18/18 [00:41<00:00,  2.32s/it, batch_loss=0.0127] \n",
      "Epoch 30/50: 100%|██████████| 18/18 [00:53<00:00,  2.96s/it, batch_loss=0.00788]\n",
      "Epoch 31/50: 100%|██████████| 18/18 [00:50<00:00,  2.80s/it, batch_loss=0.0048] \n",
      "Epoch 32/50: 100%|██████████| 18/18 [00:40<00:00,  2.25s/it, batch_loss=0.0066] \n",
      "Epoch 33/50: 100%|██████████| 18/18 [00:38<00:00,  2.12s/it, batch_loss=0.00575]\n",
      "Epoch 34/50: 100%|██████████| 18/18 [00:38<00:00,  2.15s/it, batch_loss=0.00284]\n",
      "Epoch 35/50: 100%|██████████| 18/18 [00:39<00:00,  2.22s/it, batch_loss=0.00241]\n",
      "Epoch 36/50: 100%|██████████| 18/18 [00:43<00:00,  2.41s/it, batch_loss=0.00373]\n",
      "Epoch 37/50: 100%|██████████| 18/18 [00:45<00:00,  2.53s/it, batch_loss=0.00185]\n",
      "Epoch 38/50: 100%|██████████| 18/18 [00:46<00:00,  2.58s/it, batch_loss=0.00379]\n",
      "Epoch 39/50: 100%|██████████| 18/18 [00:45<00:00,  2.52s/it, batch_loss=0.00139]\n",
      "Epoch 40/50: 100%|██████████| 18/18 [00:51<00:00,  2.85s/it, batch_loss=0.00184]\n",
      "Epoch 41/50: 100%|██████████| 18/18 [00:50<00:00,  2.80s/it, batch_loss=0.00172]\n",
      "Epoch 42/50: 100%|██████████| 18/18 [00:48<00:00,  2.67s/it, batch_loss=0.000914]\n",
      "Epoch 43/50: 100%|██████████| 18/18 [00:47<00:00,  2.65s/it, batch_loss=0.00192] \n",
      "Epoch 44/50: 100%|██████████| 18/18 [00:47<00:00,  2.66s/it, batch_loss=0.00137] \n",
      "Epoch 45/50: 100%|██████████| 18/18 [00:47<00:00,  2.63s/it, batch_loss=0.00106] \n",
      "Epoch 46/50: 100%|██████████| 18/18 [00:43<00:00,  2.43s/it, batch_loss=0.00129] \n",
      "Epoch 47/50: 100%|██████████| 18/18 [00:42<00:00,  2.35s/it, batch_loss=0.000567]\n",
      "Epoch 48/50: 100%|██████████| 18/18 [00:41<00:00,  2.33s/it, batch_loss=0.000691]\n",
      "Epoch 49/50: 100%|██████████| 18/18 [00:44<00:00,  2.47s/it, batch_loss=0.000853]\n",
      "Epoch 50/50: 100%|██████████| 18/18 [00:43<00:00,  2.42s/it, batch_loss=0.000547]\n"
     ]
    }
   ],
   "source": [
    "train(model, optimizer, loss_fn, train_loader, device, epochs=50)"
   ]
  },
  {
   "cell_type": "code",
   "execution_count": 57,
   "id": "5ef20b69",
   "metadata": {},
   "outputs": [
    {
     "name": "stdout",
     "output_type": "stream",
     "text": [
      "Acc: 84.21%\n"
     ]
    }
   ],
   "source": [
    "acc = validate_accuracy(model, val_loader, device)\n",
    "print(f\"Acc: {acc * 100:.2f}%\")"
   ]
  },
  {
   "cell_type": "code",
   "execution_count": null,
   "id": "1cb434e1",
   "metadata": {},
   "outputs": [
    {
     "ename": "RuntimeError",
     "evalue": "Parent directory run_artifacts\\20250522_071654 does not exist.",
     "output_type": "error",
     "traceback": [
      "\u001b[31m---------------------------------------------------------------------------\u001b[39m",
      "\u001b[31mRuntimeError\u001b[39m                              Traceback (most recent call last)",
      "\u001b[36mCell\u001b[39m\u001b[36m \u001b[39m\u001b[32mIn[6]\u001b[39m\u001b[32m, line 3\u001b[39m\n\u001b[32m      1\u001b[39m timestamp = datetime.now().strftime(\u001b[33m\"\u001b[39m\u001b[33m%\u001b[39m\u001b[33mY\u001b[39m\u001b[33m%\u001b[39m\u001b[33mm\u001b[39m\u001b[38;5;132;01m%d\u001b[39;00m\u001b[33m_\u001b[39m\u001b[33m%\u001b[39m\u001b[33mH\u001b[39m\u001b[33m%\u001b[39m\u001b[33mM\u001b[39m\u001b[33m%\u001b[39m\u001b[33mS\u001b[39m\u001b[33m\"\u001b[39m)\n\u001b[32m      2\u001b[39m path = os.path.join(\u001b[33mf\u001b[39m\u001b[33m\"\u001b[39m\u001b[33mrun_artifacts\u001b[39m\u001b[33m\"\u001b[39m, timestamp, MODEL_FILE_NAME)\n\u001b[32m----> \u001b[39m\u001b[32m3\u001b[39m \u001b[43mtorch\u001b[49m\u001b[43m.\u001b[49m\u001b[43msave\u001b[49m\u001b[43m(\u001b[49m\u001b[43mmodel\u001b[49m\u001b[43m,\u001b[49m\u001b[43m \u001b[49m\u001b[43mpath\u001b[49m\u001b[43m)\u001b[49m\n",
      "\u001b[36mFile \u001b[39m\u001b[32mc:\\repos\\learn\\MAMT-DLO\\Rock-Paper-Scissors\\.rockpaperscissorsvenv\\Lib\\site-packages\\torch\\serialization.py:964\u001b[39m, in \u001b[36msave\u001b[39m\u001b[34m(obj, f, pickle_module, pickle_protocol, _use_new_zipfile_serialization, _disable_byteorder_record)\u001b[39m\n\u001b[32m    961\u001b[39m     f = os.fspath(f)\n\u001b[32m    963\u001b[39m \u001b[38;5;28;01mif\u001b[39;00m _use_new_zipfile_serialization:\n\u001b[32m--> \u001b[39m\u001b[32m964\u001b[39m     \u001b[38;5;28;01mwith\u001b[39;00m \u001b[43m_open_zipfile_writer\u001b[49m\u001b[43m(\u001b[49m\u001b[43mf\u001b[49m\u001b[43m)\u001b[49m \u001b[38;5;28;01mas\u001b[39;00m opened_zipfile:\n\u001b[32m    965\u001b[39m         _save(\n\u001b[32m    966\u001b[39m             obj,\n\u001b[32m    967\u001b[39m             opened_zipfile,\n\u001b[32m   (...)\u001b[39m\u001b[32m    970\u001b[39m             _disable_byteorder_record,\n\u001b[32m    971\u001b[39m         )\n\u001b[32m    972\u001b[39m         \u001b[38;5;28;01mreturn\u001b[39;00m\n",
      "\u001b[36mFile \u001b[39m\u001b[32mc:\\repos\\learn\\MAMT-DLO\\Rock-Paper-Scissors\\.rockpaperscissorsvenv\\Lib\\site-packages\\torch\\serialization.py:828\u001b[39m, in \u001b[36m_open_zipfile_writer\u001b[39m\u001b[34m(name_or_buffer)\u001b[39m\n\u001b[32m    826\u001b[39m \u001b[38;5;28;01melse\u001b[39;00m:\n\u001b[32m    827\u001b[39m     container = _open_zipfile_writer_buffer\n\u001b[32m--> \u001b[39m\u001b[32m828\u001b[39m \u001b[38;5;28;01mreturn\u001b[39;00m \u001b[43mcontainer\u001b[49m\u001b[43m(\u001b[49m\u001b[43mname_or_buffer\u001b[49m\u001b[43m)\u001b[49m\n",
      "\u001b[36mFile \u001b[39m\u001b[32mc:\\repos\\learn\\MAMT-DLO\\Rock-Paper-Scissors\\.rockpaperscissorsvenv\\Lib\\site-packages\\torch\\serialization.py:792\u001b[39m, in \u001b[36m_open_zipfile_writer_file.__init__\u001b[39m\u001b[34m(self, name)\u001b[39m\n\u001b[32m    785\u001b[39m     \u001b[38;5;28msuper\u001b[39m().\u001b[34m__init__\u001b[39m(\n\u001b[32m    786\u001b[39m         torch._C.PyTorchFileWriter(\n\u001b[32m    787\u001b[39m             \u001b[38;5;28mself\u001b[39m.file_stream, get_crc32_options(), _get_storage_alignment()\n\u001b[32m    788\u001b[39m         )\n\u001b[32m    789\u001b[39m     )\n\u001b[32m    790\u001b[39m \u001b[38;5;28;01melse\u001b[39;00m:\n\u001b[32m    791\u001b[39m     \u001b[38;5;28msuper\u001b[39m().\u001b[34m__init__\u001b[39m(\n\u001b[32m--> \u001b[39m\u001b[32m792\u001b[39m         \u001b[43mtorch\u001b[49m\u001b[43m.\u001b[49m\u001b[43m_C\u001b[49m\u001b[43m.\u001b[49m\u001b[43mPyTorchFileWriter\u001b[49m\u001b[43m(\u001b[49m\n\u001b[32m    793\u001b[39m \u001b[43m            \u001b[49m\u001b[38;5;28;43mself\u001b[39;49m\u001b[43m.\u001b[49m\u001b[43mname\u001b[49m\u001b[43m,\u001b[49m\u001b[43m \u001b[49m\u001b[43mget_crc32_options\u001b[49m\u001b[43m(\u001b[49m\u001b[43m)\u001b[49m\u001b[43m,\u001b[49m\u001b[43m \u001b[49m\u001b[43m_get_storage_alignment\u001b[49m\u001b[43m(\u001b[49m\u001b[43m)\u001b[49m\n\u001b[32m    794\u001b[39m \u001b[43m        \u001b[49m\u001b[43m)\u001b[49m\n\u001b[32m    795\u001b[39m     )\n",
      "\u001b[31mRuntimeError\u001b[39m: Parent directory run_artifacts\\20250522_071654 does not exist."
     ]
    }
   ],
   "source": [
    "timestamp = datetime.now().strftime(\"%Y%m%d_%H%M%S\")\n",
    "dir = os.path.join(\"run_artifacts\", timestamp)\n",
    "os.makedirs(dir, exist_ok=True)\n",
    "path = os.path.join(dir, MODEL_FILE_NAME)\n",
    "torch.save(model, path)"
   ]
  }
 ],
 "metadata": {
  "kernelspec": {
   "display_name": ".rockpaperscissorsvenv",
   "language": "python",
   "name": ".rockpaperscissorsvenv"
  },
  "language_info": {
   "codemirror_mode": {
    "name": "ipython",
    "version": 3
   },
   "file_extension": ".py",
   "mimetype": "text/x-python",
   "name": "python",
   "nbconvert_exporter": "python",
   "pygments_lexer": "ipython3",
   "version": "3.13.2"
  }
 },
 "nbformat": 4,
 "nbformat_minor": 5
}
